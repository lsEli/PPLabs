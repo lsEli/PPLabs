{
  "nbformat": 4,
  "nbformat_minor": 0,
  "metadata": {
    "colab": {
      "provenance": [],
      "authorship_tag": "ABX9TyMCIFfOaHOczLXHT6bi1hKw",
      "include_colab_link": true
    },
    "kernelspec": {
      "name": "python3",
      "display_name": "Python 3"
    },
    "language_info": {
      "name": "python"
    }
  },
  "cells": [
    {
      "cell_type": "markdown",
      "metadata": {
        "id": "view-in-github",
        "colab_type": "text"
      },
      "source": [
        "<a href=\"https://colab.research.google.com/github/lsEli/PPLabs/blob/main/laboratorio.ipynb\" target=\"_parent\"><img src=\"https://colab.research.google.com/assets/colab-badge.svg\" alt=\"Open In Colab\"/></a>"
      ]
    },
    {
      "cell_type": "markdown",
      "source": [
        "Universidad Nacional de Costa Rica\n",
        "\n",
        "Escuela de Informática\n",
        "\n",
        "Laboratorio: Hilos en Python\n",
        "\n",
        "Estudiante: Luis Elías Mora Montero\n",
        "\n",
        "Nota: Se han comentado los prints \"innecesarios\" para no influir en el resultado del tiempo de ejecución.\n",
        "\n",
        "---\n",
        "Tamaño del vector = 100.\n",
        "\n",
        "Utilizando 1 hilo:\n",
        "**0.00027298927307128906**\n",
        "\n",
        "Utilizando 2 hilos:\n",
        "**0.00046372413635253906**\n",
        "\n",
        "Utilizando 4 hilos:\n",
        "**0.0007164478302001953**\n",
        "\n",
        "Utilizando 8 hilos:\n",
        "**0.0016818046569824219**\n",
        "\n",
        "Utilizando 16 hilos:\n",
        "**0.00419306755065918**\n",
        "\n",
        "...\n",
        "---\n",
        "En conclusión, para el primer caso el tiempo tiende a aumentar al incrementar la cantidad de hilos, lo anterior, como consecuencia del tamaño del vector (100)."
      ],
      "metadata": {
        "id": "lDsJzLYCotNY"
      }
    },
    {
      "cell_type": "markdown",
      "source": [
        "Tamaño del vector = 1000.\n",
        "\n",
        "Utilizando 1 hilo:\n",
        "**0.0005369186401367188**\n",
        "\n",
        "Utilizando 2 hilos:\n",
        "**0.0007860660552978516**\n",
        "\n",
        "Utilizando 4 hilos:\n",
        "**0.0010268688201904297**\n",
        "\n",
        "Utilizando 8 hilos:\n",
        "**0.0012555122375488281**\n",
        "\n",
        "Utilizando 16 hilos:\n",
        "**0.002003908157348633**\n",
        "\n",
        "...\n",
        "---\n",
        "En síntesis, para el segundo caso el tiempo tambien tiende a aumentar al incrementar la cantidad de hilos. Por lo tanto, se consideran dos hilos como la cantidad de hilos óptima."
      ],
      "metadata": {
        "id": "8SXqQbDksFz7"
      }
    },
    {
      "cell_type": "code",
      "execution_count": null,
      "metadata": {
        "id": "Cxhx1uFAeoD9"
      },
      "outputs": [],
      "source": [
        "import threading\n",
        "import random\n",
        "import time"
      ]
    },
    {
      "cell_type": "code",
      "source": [
        "def ordena_subvector(subvector, hilo):\n",
        "  tiempo_inicio = time.time()\n",
        "  subvector.sort()\n",
        "  #print(subvector)\n",
        "  tiempo_fin = time.time()\n",
        "  tiempo_ejecucion = tiempo_fin - tiempo_inicio\n",
        "  #print(f\"Hilo {hilo}: Subvector ordenado (Tiempo: {tiempo_ejecucion} segundos)\")"
      ],
      "metadata": {
        "id": "pwI62a3HfSiC"
      },
      "execution_count": null,
      "outputs": []
    },
    {
      "cell_type": "code",
      "source": [
        "def dividir_vector(vector, num_hilos):\n",
        "  longitud_subvector = len(vector) // num_hilos\n",
        "  subvectores = [vector[i:i+longitud_subvector] for i in range(0, len(vector), longitud_subvector)]\n",
        "  return subvectores"
      ],
      "metadata": {
        "id": "cugpZiZQgc5R"
      },
      "execution_count": null,
      "outputs": []
    },
    {
      "cell_type": "code",
      "source": [
        "def unir_vectores(subvectores):\n",
        "  vector_ordenado = [num for subvector in subvectores for num in subvector]\n",
        "  return vector_ordenado"
      ],
      "metadata": {
        "id": "FFFJEQJbgpW7"
      },
      "execution_count": null,
      "outputs": []
    },
    {
      "cell_type": "code",
      "source": [
        "def ordenar_vector(vector, num_hilos):\n",
        "  tiempo_inicio = time.time()\n",
        "  subvectores = dividir_vector(vector, num_hilos)\n",
        "  threads = []\n",
        "\n",
        "  for i, subvector in enumerate(subvectores):\n",
        "    thread = threading.Thread(target=ordena_subvector, args=(subvector, i))\n",
        "    thread.start()\n",
        "    threads.append(thread)\n",
        "    for thread in threads:\n",
        "      thread.join()\n",
        "  vector_ordenado = unir_vectores(subvectores)\n",
        "  vector_ordenado.sort()\n",
        "  tiempo_fin = time.time()\n",
        "  tiempo_ejecucion = tiempo_fin - tiempo_inicio\n",
        "  print(f\"Tiempo de ejecución general: {tiempo_ejecucion }\")\n",
        "  #print(f\"Vector ordenado final: {vector_ordenado}\")"
      ],
      "metadata": {
        "id": "MSNiseszhKKI"
      },
      "execution_count": null,
      "outputs": []
    },
    {
      "cell_type": "code",
      "source": [
        "vector_grande = [random.randint(1, 100) for _ in range(1000)]\n",
        "num_hilos = int(input(\"Ingrese la cantidad de hilos: \"))\n",
        "ordenar_vector(vector=vector_grande, num_hilos=num_hilos)"
      ],
      "metadata": {
        "id": "TQfMDQtcipyO"
      },
      "execution_count": null,
      "outputs": []
    }
  ]
}